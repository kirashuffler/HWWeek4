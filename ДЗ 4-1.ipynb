{
 "cells": [
  {
   "cell_type": "markdown",
   "metadata": {},
   "source": [
    "Данное домашнее задание посвящено схеме базе данных, связанной с футбольным командами. Схема расположена в hw_diagram.jpg\n",
    "## Описание таблиц \n",
    "\n",
    "### Positions \n",
    "Позиции игроков\n",
    "id - уникальный идентификатор позиции \n",
    "Name - Название таблицы \n",
    "\n",
    "### Coaches \n",
    "Таблица тренеров \n",
    "id - уникальный идентификатор тренера\n",
    "Name - имя тренера \n",
    "\n",
    "## Teams \n",
    "Таблица команд \n",
    "id - уникальный идентификатор  команды \n",
    "Name - имя команды \n",
    "Location - расположение команды \n",
    "Coach_id - идентификатор тренера \n",
    "\n",
    "### Players \n",
    "Таблица игроков \n",
    "Id - уникальный идентификатор игрока \n",
    "Name - имя игрока \n",
    "Age - возраст игрока \n",
    "Position_id - идентификатор позиции \n",
    "Team_id - идентификатор команды \n",
    "Start_date - дата начала игры в команде \n",
    "\n",
    "### PlayersArchive \n",
    "Архив по игрокам (информация о том, в какой команде игрок играл ранее) \n",
    "player_id - идентификатор игрока \n",
    "team_id - идентификатор команды \n",
    "start_date - дата начала игры \n",
    "end_date - дата окончания игры"
   ]
  },
  {
   "cell_type": "markdown",
   "metadata": {},
   "source": [
    "# Задание 1\n",
    "Реализовать перенакатываемые sql-скрипты по схеме hw_diagram, приложенного ниже."
   ]
  },
  {
   "cell_type": "code",
   "execution_count": 17,
   "metadata": {
    "collapsed": false
   },
   "outputs": [
    {
     "name": "stdout",
     "output_type": "stream",
     "text": [
      "0 rows affected.\n",
      "0 rows affected.\n",
      "0 rows affected.\n",
      "0 rows affected.\n",
      "0 rows affected.\n",
      "0 rows affected.\n",
      "0 rows affected.\n",
      "0 rows affected.\n",
      "Done.\n",
      "0 rows affected.\n"
     ]
    },
    {
     "data": {
      "text/plain": [
       "[]"
      ]
     },
     "execution_count": 17,
     "metadata": {},
     "output_type": "execute_result"
    }
   ],
   "source": [
    "%%sql\n",
    "DROP TABLE if exists Positions;\n",
    "CREATE TABLE Positions(id integer(0,0) NOT NULL PRIMARY KEY, Name varchar(0,0));\n",
    "DROP TABLE if exists Teams;\n",
    "CREATE TABLE Teams(id integer(0,0) NOT NULL PRIMARY KEY, Name varchar(0,0),\n",
    "                   Location varchar(0,0), Coach_id varchar(0,0), FOREIGN KEY (Coach_id) REFERENCES Coaches(id));\n",
    "DROP TABLE if exists Players;\n",
    "CREATE TABLE Players(id integer(0,0) NOT NULL PRIMARY KEY, Name varchar(0,0), Age integer(0,0), Position_id varchar(0,0) NOT NULL,\n",
    "                     Team_id varchar(0,0) NOT NULL, Start_date integer(0,0),\n",
    "                     FOREIGN KEY (Position_id) REFERENCES Positions(id),\n",
    "                     FOREIGN KEY (Team_id) REFERENCES Teams(id));\n",
    "DROP TABLE if exists Coaches;\n",
    "CREATE TABLE Coaches(id integer(0,0) PRIMARY KEY, name varchar(0,0));\n",
    "DROP TABLE if exists PlayersArchive;\n",
    "CREATE TABLE PlayersArchive(Player_id varchar(0,0), Team_id varchar(0,0), start_date integer(0,0), end_date integer(0,0),\n",
    "                            FOREIGN KEY (Player_id) REFERENCES Players(id),\n",
    "                            FOREIGN KEY (Team_id) REFERENCES Teams(id));"
   ]
  },
  {
   "cell_type": "markdown",
   "metadata": {},
   "source": [
    "# Задание 2\n",
    "Написать sql-скрипт, осуществляюший добавление всех возможных позиций игроков. (В данной задаче можно ограничится четырьмя - вратарь, защитник, полузащитник, нападающий)"
   ]
  },
  {
   "cell_type": "code",
   "execution_count": 19,
   "metadata": {
    "collapsed": false
   },
   "outputs": [
    {
     "name": "stdout",
     "output_type": "stream",
     "text": [
      "1 rows affected.\n",
      "1 rows affected.\n",
      "1 rows affected.\n",
      "1 rows affected.\n"
     ]
    },
    {
     "data": {
      "text/plain": [
       "[]"
      ]
     },
     "execution_count": 19,
     "metadata": {},
     "output_type": "execute_result"
    }
   ],
   "source": [
    "%%sql\n",
    "INSERT INTO Positions VALUES (1, 'goalkeeper');\n",
    "INSERT INTO Positions VALUES (2, 'defender');\n",
    "INSERT INTO Positions VALUES (3, 'midfielder');\n",
    "INSERT INTO Positions VALUES (4, 'forward');"
   ]
  },
  {
   "cell_type": "markdown",
   "metadata": {},
   "source": [
    "# Задание 3\n",
    "Написать функцию, осуществляющую добавление тренера. На вход функции подается имя тренера. При невозможности вставки функция должна обработать данное исключение и вывести пользователю информацию о проблеме\n",
    "\n",
    "После написания функции необходимо добавить несколько тренеров для таблицы."
   ]
  },
  {
   "cell_type": "code",
   "execution_count": 35,
   "metadata": {
    "collapsed": false
   },
   "outputs": [],
   "source": [
    "import sqlite3\n",
    "db=sqlite3.connect('test1.db')\n",
    "def check_coach(name):\n",
    "    cur = db.cursor()\n",
    "    cur.execute('''select id from Coaches where name = ?''', (name,))\n",
    "    try:\n",
    "        ID = cur.fetchone()[0]\n",
    "        return ID\n",
    "    except TypeError:\n",
    "        print('Incorrect name')\n",
    "        return -1\n",
    "    \n",
    "def insert_coach(Name):\n",
    "    chk_chc = check_coach(Name)\n",
    "    if chk_chc != -1:\n",
    "        return -1\n",
    "    cur = db.cursor()\n",
    "    cur.execute( '''\n",
    "    SELECT COALESCE(MAX(id)+1, 1) FROM Coaches''')\n",
    "    ID = cur.fetchone()[0]\n",
    "    cur.execute('''\n",
    "        INSERT INTO Coaches(id, name) VALUES(?,?)''', (ID,Name))\n",
    "    db.commit()\n",
    "\n",
    "\n",
    "    "
   ]
  },
  {
   "cell_type": "markdown",
   "metadata": {},
   "source": [
    "# Задание 4\n",
    "\n",
    "Написать функцию, осуществляющую добавление команды. На вход функция принимает (имя команды, местоположение, имя тренера).\n",
    "На выходе должна быть добавлена команда.\n",
    "\n",
    "После написания функции необходимо добавить несколько команд"
   ]
  },
  {
   "cell_type": "code",
   "execution_count": 37,
   "metadata": {
    "collapsed": false
   },
   "outputs": [],
   "source": [
    "def insert_team(name, location, coach_name):\n",
    "    c_id = check_coach(coach_name)\n",
    "    cur = db.cursor()\n",
    "    cur.execute('''\n",
    "    SELECT COALESCE(MAX(id) + 1, 1) FROM Teams''')\n",
    "    ID = cur.fetchone()[0];\n",
    "    cur.execute('''\n",
    "        INSERT INTO Teams VALUES(?,?,?,?)''',(ID, name, location, c_id))\n",
    "    db.commit()\n",
    "insert_team('VP','Poland','Keku4')\n",
    "insert_team('Nagibatory', 'Russia', 'John')\n",
    "insert_team('Numbania', 'India', 'Zimbabwe')"
   ]
  },
  {
   "cell_type": "markdown",
   "metadata": {},
   "source": [
    "# Задание 5\n",
    "\n",
    "Написать функцию, осуществляющую обновление информации о команде. У функции на входе должен быть один обязательный параметр - название команды и два необязательных параметра - имя тренера и местоположение. При этом хотя бы один из необязательных параметров должен быть заполнен. Функция должна обновлять значение переданных необязательных параметров.\n",
    "\n",
    "После написания функции вызовите данную функцию несколько раз"
   ]
  },
  {
   "cell_type": "code",
   "execution_count": 53,
   "metadata": {
    "collapsed": false
   },
   "outputs": [],
   "source": [
    "def check_team(name):\n",
    "    cur = db.cursor()\n",
    "    cur.execute('''select id from Teams where Name = ?''', (name,))\n",
    "    try:\n",
    "        ID = cur.fetchone()[0]\n",
    "        return ID\n",
    "    except TypeError:\n",
    "        print('Wrong team')\n",
    "        return -1\n",
    "    \n",
    "def update_teams(name, *args):\n",
    "    team_id = check_team(name)\n",
    "    cur = db.cursor()\n",
    "    if len(args)>0:\n",
    "        c_name = check_coach(args[0])\n",
    "    if len(args) == 2:\n",
    "        loc = args[1]\n",
    "        cur.execute('''update Teams set Location = ?, Coach_id = ? where id = ?''', (loc, c_name, team_id))\n",
    "    else:\n",
    "        cur.execute('''update Teams set Coach_id = ? where id = ?''', (c_name, team_id))\n",
    "    db.commit()\n",
    "update_teams('VP','John')\n",
    "update_teams('Nagibatory', 'Keku4', 'Poland')"
   ]
  },
  {
   "cell_type": "markdown",
   "metadata": {},
   "source": [
    "# Задание 6\n",
    "\n",
    "Написать функцию, осуществляющую добавление нового футболиста в таблицу игроков. На входе (имя, возраст, название позиции, название команды, дата перехода в команду(необязательный параметр)). Если дата перехода не указана, то нужно использовать текущую дату. Предусмотреть различные ошибки (такие как неверное имя позиции, неверное название команды, возраст < 10 и > 50 и т.п.)\n",
    "\n",
    "После написания функции необходимо добавить несколько игроков."
   ]
  },
  {
   "cell_type": "code",
   "execution_count": 60,
   "metadata": {
    "collapsed": false
   },
   "outputs": [],
   "source": [
    "import datetime\n",
    "def pos_check(name):\n",
    "    cur = db.cursor()\n",
    "    cur.execute('''select id from Positions where Name = ?''',(name,))\n",
    "    try:\n",
    "        ID = cur.fetchone()[0]\n",
    "        return ID\n",
    "    except TypeError:\n",
    "        print('Wrong position')\n",
    "        return -1\n",
    "\n",
    "def insert_player(name, age, position, *args):\n",
    "    pos_id = pos_check(position)\n",
    "    if pos_id == -1:\n",
    "        return -1\n",
    "    team_id = check_team(args[0])\n",
    "    if team_id == -1:\n",
    "        return -1\n",
    "    if age < 10 or age > 50:\n",
    "        print('Wrong age')\n",
    "        return -1\n",
    "    if len(args) == 2:\n",
    "        date = args[1]\n",
    "    else:\n",
    "        date = datetime.date.today()\n",
    "    cur = db.cursor()\n",
    "    cur.execute('''\n",
    "    SELECT COALESCE(MAX(id) + 1, 1) FROM Players''')\n",
    "    ID = cur.fetchone()[0];\n",
    "    cur.execute('insert into Players(id, Name, Age, Position_id, Team_id, Start_date) values(?,?,?,?,?,?)',(ID, name, age, pos_id, team_id, date))\n",
    "    db.commit()\n",
    "insert_player('Sawa', 19, 'goalkeeper', 'VP')"
   ]
  },
  {
   "cell_type": "markdown",
   "metadata": {},
   "source": [
    "# Задание 7\n",
    "Написать функцию для перевода игрока в другую команду. Данная функция должна осуществить архивирование текущей записи в таблице игроков в таблицу players_archive с заполнение end_date - датой начала игры за новую команду - 1 день. А также осуществлять изменение поля в таблице Players. При возникновении ошибки должен осуществляться полный откат транзакции."
   ]
  },
  {
   "cell_type": "code",
   "execution_count": 70,
   "metadata": {
    "collapsed": true
   },
   "outputs": [],
   "source": [
    "def player_transfer(name, team, date):\n",
    "    cur = db.cursor()\n",
    "    cur.execute('select id from Players where Name = ?', (name,))\n",
    "    player_id = cur.fetchone()[0]\n",
    "    cur.execute('select Team_id from Players where Name = ?', (name,))\n",
    "    old_team_id = cur.fetchone()[0]\n",
    "    cur.execute('select Start_date from Players where Name = ?', (name,))\n",
    "    start = cur.fetchone()[0]\n",
    "    cur.execute('insert into PlayersArchive values(?,?,?,?)',(player_id, old_team_id, start, date))\n",
    "    team_id = check_team(team)\n",
    "    cur.execute('update Players set Team_id = ?, Start_date = ? where id = ?',(team_id, date, player_id))\n",
    "    db.commit()\n",
    "    "
   ]
  },
  {
   "cell_type": "code",
   "execution_count": 71,
   "metadata": {
    "collapsed": false
   },
   "outputs": [],
   "source": [
    "player_transfer('Sawa', 'Nagibatory', '2017-05-09')"
   ]
  },
  {
   "cell_type": "code",
   "execution_count": null,
   "metadata": {
    "collapsed": true
   },
   "outputs": [],
   "source": []
  }
 ],
 "metadata": {
  "kernelspec": {
   "display_name": "Python 3",
   "language": "python",
   "name": "python3"
  },
  "language_info": {
   "codemirror_mode": {
    "name": "ipython",
    "version": 3
   },
   "file_extension": ".py",
   "mimetype": "text/x-python",
   "name": "python",
   "nbconvert_exporter": "python",
   "pygments_lexer": "ipython3",
   "version": "3.6.0"
  }
 },
 "nbformat": 4,
 "nbformat_minor": 2
}
